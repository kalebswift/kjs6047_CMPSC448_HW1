{
 "cells": [
  {
   "cell_type": "code",
   "execution_count": 54,
   "metadata": {},
   "outputs": [],
   "source": [
    "# Import Pandas\n",
    "\n",
    "import pandas as pd"
   ]
  },
  {
   "cell_type": "code",
   "execution_count": 3,
   "metadata": {},
   "outputs": [
    {
     "name": "stdout",
     "output_type": "stream",
     "text": [
      "Filled 1836 NA values in column workclass\n",
      "Filled 1843 NA values in column occupation\n",
      "Filled 583 NA values in column native_country\n",
      "Filled 963 NA values in column workclass\n",
      "Filled 966 NA values in column occupation\n",
      "Filled 274 NA values in column native_country\n"
     ]
    }
   ],
   "source": [
    "# Import CSV files\n",
    "\n",
    "names = [\"age\", \"workclass\", \"fnlwgt\", \"education\", \"education_num\",\n",
    "\"marital_status\", \"occupation\", \"relationship\", \"race\", \"sex\",\n",
    "\"capital_gain\", \"capital_loss\", \"hours_per_week\", \"native_country\", \"income\"]\n",
    "adult_df = pd.read_csv(\"https://archive.ics.uci.edu/ml/machine-learning-databases/adult/adult.data\",\n",
    "header=None, names=names, sep=\",\\s+\", na_values=\"?\",\n",
    "verbose=True, engine='python')\n",
    "test_df = pd.read_csv(\"https://archive.ics.uci.edu/ml/machine-learning-databases/adult/adult.test\",\n",
    "header=None, names=names, sep=\",\\s+\", na_values=\"?\", verbose=True,\n",
    "skiprows=[0], engine='python')\n",
    "\n",
    "# Tweak income value format\n",
    "\n",
    "test_df[\"income\"] = test_df[\"income\"].apply(lambda x: x[:-1])"
   ]
  },
  {
   "cell_type": "code",
   "execution_count": 4,
   "metadata": {},
   "outputs": [
    {
     "name": "stdout",
     "output_type": "stream",
     "text": [
      " Columns Information :\n",
      "<class 'pandas.core.frame.DataFrame'>\n",
      "RangeIndex: 32561 entries, 0 to 32560\n",
      "Data columns (total 15 columns):\n",
      "age               32561 non-null int64\n",
      "workclass         30725 non-null object\n",
      "fnlwgt            32561 non-null int64\n",
      "education         32561 non-null object\n",
      "education_num     32561 non-null int64\n",
      "marital_status    32561 non-null object\n",
      "occupation        30718 non-null object\n",
      "relationship      32561 non-null object\n",
      "race              32561 non-null object\n",
      "sex               32561 non-null object\n",
      "capital_gain      32561 non-null int64\n",
      "capital_loss      32561 non-null int64\n",
      "hours_per_week    32561 non-null int64\n",
      "native_country    31978 non-null object\n",
      "income            32561 non-null object\n",
      "dtypes: int64(6), object(9)\n",
      "memory usage: 3.7+ MB\n",
      "None\n",
      "\n",
      " Summary statistics of Train dataset :\n",
      "                age        fnlwgt  education_num  capital_gain  capital_loss  \\\n",
      "count  32561.000000  3.256100e+04   32561.000000  32561.000000  32561.000000   \n",
      "mean      38.581647  1.897784e+05      10.080679   1077.648844     87.303830   \n",
      "std       13.640433  1.055500e+05       2.572720   7385.292085    402.960219   \n",
      "min       17.000000  1.228500e+04       1.000000      0.000000      0.000000   \n",
      "25%       28.000000  1.178270e+05       9.000000      0.000000      0.000000   \n",
      "50%       37.000000  1.783560e+05      10.000000      0.000000      0.000000   \n",
      "75%       48.000000  2.370510e+05      12.000000      0.000000      0.000000   \n",
      "max       90.000000  1.484705e+06      16.000000  99999.000000   4356.000000   \n",
      "\n",
      "       hours_per_week  \n",
      "count    32561.000000  \n",
      "mean        40.437456  \n",
      "std         12.347429  \n",
      "min          1.000000  \n",
      "25%         40.000000  \n",
      "50%         40.000000  \n",
      "75%         45.000000  \n",
      "max         99.000000  \n",
      "\n",
      " Summary statistics of Test dataset :\n",
      "                age        fnlwgt  education_num  capital_gain  capital_loss  \\\n",
      "count  16281.000000  1.628100e+04   16281.000000  16281.000000  16281.000000   \n",
      "mean      38.767459  1.894357e+05      10.072907   1081.905104     87.899269   \n",
      "std       13.849187  1.057149e+05       2.567545   7583.935968    403.105286   \n",
      "min       17.000000  1.349200e+04       1.000000      0.000000      0.000000   \n",
      "25%       28.000000  1.167360e+05       9.000000      0.000000      0.000000   \n",
      "50%       37.000000  1.778310e+05      10.000000      0.000000      0.000000   \n",
      "75%       48.000000  2.383840e+05      12.000000      0.000000      0.000000   \n",
      "max       90.000000  1.490400e+06      16.000000  99999.000000   3770.000000   \n",
      "\n",
      "       hours_per_week  \n",
      "count    16281.000000  \n",
      "mean        40.392236  \n",
      "std         12.479332  \n",
      "min          1.000000  \n",
      "25%         40.000000  \n",
      "50%         40.000000  \n",
      "75%         45.000000  \n",
      "max         99.000000  \n"
     ]
    }
   ],
   "source": [
    "print (\" Columns Information :\")\n",
    "print ( adult_df . info () )\n",
    "print (\"\")\n",
    "print (\" Summary statistics of Train dataset :\")\n",
    "print ( adult_df . describe () )\n",
    "print (\"\")\n",
    "print (\" Summary statistics of Test dataset :\")\n",
    "print ( test_df . describe () )\n"
   ]
  },
  {
   "cell_type": "code",
   "execution_count": 101,
   "metadata": {},
   "outputs": [],
   "source": [
    "# Create function q1\n",
    "\n",
    "def q1(df):\n",
    "    return df[pd.isna(df.education)].count()"
   ]
  },
  {
   "cell_type": "code",
   "execution_count": 90,
   "metadata": {},
   "outputs": [],
   "source": [
    "# Create function q2\n",
    "\n",
    "def q2(df):\n",
    "    return df[(df.age <= 60) & (df.age <= 40)].count()"
   ]
  },
  {
   "cell_type": "code",
   "execution_count": 91,
   "metadata": {},
   "outputs": [],
   "source": [
    "# Create function q3\n",
    "\n",
    "def q3(df):\n",
    "    temp = df[(df.sex == \"Male\")]\n",
    "    return temp[['age']].mean()"
   ]
  },
  {
   "cell_type": "code",
   "execution_count": 92,
   "metadata": {},
   "outputs": [],
   "source": [
    "# Create function q4\n",
    "\n",
    "def q4(df):\n",
    "    return df[(df.native_country == \"England\") & (df.sex == \"Female\")].count()"
   ]
  },
  {
   "cell_type": "code",
   "execution_count": 104,
   "metadata": {},
   "outputs": [],
   "source": [
    "# Create function q5\n",
    "\n",
    "def q5(df):\n",
    "    return df[(df.income == \">50K\") & (df.native_country == \"United-States\")].std()"
   ]
  },
  {
   "cell_type": "code",
   "execution_count": 94,
   "metadata": {},
   "outputs": [
    {
     "ename": "TypeError",
     "evalue": "bool() takes 1 positional argument but 2 were given",
     "output_type": "error",
     "traceback": [
      "\u001b[1;31m---------------------------------------------------------------------------\u001b[0m",
      "\u001b[1;31mTypeError\u001b[0m                                 Traceback (most recent call last)",
      "\u001b[1;32m<ipython-input-94-c9df79c08ff5>\u001b[0m in \u001b[0;36m<module>\u001b[1;34m()\u001b[0m\n\u001b[0;32m      4\u001b[0m     \u001b[1;32mreturn\u001b[0m \u001b[1;33m(\u001b[0m\u001b[0mdf\u001b[0m\u001b[1;33m[\u001b[0m\u001b[1;33m(\u001b[0m\u001b[0mdf\u001b[0m\u001b[1;33m.\u001b[0m\u001b[0mworkclass\u001b[0m \u001b[1;33m==\u001b[0m \u001b[0ma\u001b[0m\u001b[1;33m)\u001b[0m \u001b[1;33m&\u001b[0m \u001b[1;33m(\u001b[0m\u001b[0mdf\u001b[0m\u001b[1;33m.\u001b[0m\u001b[0mincome\u001b[0m \u001b[1;33m==\u001b[0m \u001b[1;34m\">50K\"\u001b[0m\u001b[1;33m)\u001b[0m\u001b[1;33m]\u001b[0m\u001b[1;33m.\u001b[0m\u001b[0mcount\u001b[0m\u001b[1;33m(\u001b[0m\u001b[1;33m)\u001b[0m \u001b[1;33m-\u001b[0m \u001b[0mdf\u001b[0m\u001b[1;33m[\u001b[0m\u001b[1;33m(\u001b[0m\u001b[0mdf\u001b[0m\u001b[1;33m.\u001b[0m\u001b[0mworkclass\u001b[0m \u001b[1;33m==\u001b[0m \u001b[0mb\u001b[0m\u001b[1;33m)\u001b[0m \u001b[1;33m&\u001b[0m \u001b[1;33m(\u001b[0m\u001b[0mdf\u001b[0m\u001b[1;33m.\u001b[0m\u001b[0mincome\u001b[0m \u001b[1;33m==\u001b[0m \u001b[1;34m\">50K\"\u001b[0m\u001b[1;33m)\u001b[0m\u001b[1;33m]\u001b[0m\u001b[1;33m.\u001b[0m\u001b[0mcount\u001b[0m\u001b[1;33m(\u001b[0m\u001b[1;33m)\u001b[0m\u001b[1;33m)\u001b[0m\u001b[1;33m.\u001b[0m\u001b[0mbool\u001b[0m\u001b[1;33m(\u001b[0m\u001b[0mdf\u001b[0m\u001b[1;33m[\u001b[0m\u001b[1;33m[\u001b[0m\u001b[1;34m'age'\u001b[0m\u001b[1;33m]\u001b[0m\u001b[1;33m]\u001b[0m\u001b[1;33m.\u001b[0m\u001b[0mcount\u001b[0m\u001b[1;33m(\u001b[0m\u001b[1;33m)\u001b[0m \u001b[1;33m>\u001b[0m \u001b[1;36m0\u001b[0m\u001b[1;33m)\u001b[0m\u001b[1;33m\u001b[0m\u001b[0m\n\u001b[0;32m      5\u001b[0m \u001b[1;33m\u001b[0m\u001b[0m\n\u001b[1;32m----> 6\u001b[1;33m \u001b[0mprint\u001b[0m\u001b[1;33m(\u001b[0m\u001b[0mq6\u001b[0m\u001b[1;33m(\u001b[0m\u001b[0madult_df\u001b[0m\u001b[1;33m,\u001b[0m \u001b[1;34m\"Private\"\u001b[0m\u001b[1;33m,\u001b[0m \u001b[1;34m\"State-gov\"\u001b[0m\u001b[1;33m)\u001b[0m\u001b[1;33m)\u001b[0m\u001b[1;33m\u001b[0m\u001b[0m\n\u001b[0m",
      "\u001b[1;32m<ipython-input-94-c9df79c08ff5>\u001b[0m in \u001b[0;36mq6\u001b[1;34m(df, a, b)\u001b[0m\n\u001b[0;32m      2\u001b[0m \u001b[1;33m\u001b[0m\u001b[0m\n\u001b[0;32m      3\u001b[0m \u001b[1;32mdef\u001b[0m \u001b[0mq6\u001b[0m\u001b[1;33m(\u001b[0m\u001b[0mdf\u001b[0m\u001b[1;33m,\u001b[0m \u001b[0ma\u001b[0m\u001b[1;33m,\u001b[0m \u001b[0mb\u001b[0m\u001b[1;33m)\u001b[0m\u001b[1;33m:\u001b[0m\u001b[1;33m\u001b[0m\u001b[0m\n\u001b[1;32m----> 4\u001b[1;33m     \u001b[1;32mreturn\u001b[0m \u001b[1;33m(\u001b[0m\u001b[0mdf\u001b[0m\u001b[1;33m[\u001b[0m\u001b[1;33m(\u001b[0m\u001b[0mdf\u001b[0m\u001b[1;33m.\u001b[0m\u001b[0mworkclass\u001b[0m \u001b[1;33m==\u001b[0m \u001b[0ma\u001b[0m\u001b[1;33m)\u001b[0m \u001b[1;33m&\u001b[0m \u001b[1;33m(\u001b[0m\u001b[0mdf\u001b[0m\u001b[1;33m.\u001b[0m\u001b[0mincome\u001b[0m \u001b[1;33m==\u001b[0m \u001b[1;34m\">50K\"\u001b[0m\u001b[1;33m)\u001b[0m\u001b[1;33m]\u001b[0m\u001b[1;33m.\u001b[0m\u001b[0mcount\u001b[0m\u001b[1;33m(\u001b[0m\u001b[1;33m)\u001b[0m \u001b[1;33m-\u001b[0m \u001b[0mdf\u001b[0m\u001b[1;33m[\u001b[0m\u001b[1;33m(\u001b[0m\u001b[0mdf\u001b[0m\u001b[1;33m.\u001b[0m\u001b[0mworkclass\u001b[0m \u001b[1;33m==\u001b[0m \u001b[0mb\u001b[0m\u001b[1;33m)\u001b[0m \u001b[1;33m&\u001b[0m \u001b[1;33m(\u001b[0m\u001b[0mdf\u001b[0m\u001b[1;33m.\u001b[0m\u001b[0mincome\u001b[0m \u001b[1;33m==\u001b[0m \u001b[1;34m\">50K\"\u001b[0m\u001b[1;33m)\u001b[0m\u001b[1;33m]\u001b[0m\u001b[1;33m.\u001b[0m\u001b[0mcount\u001b[0m\u001b[1;33m(\u001b[0m\u001b[1;33m)\u001b[0m\u001b[1;33m)\u001b[0m\u001b[1;33m.\u001b[0m\u001b[0mbool\u001b[0m\u001b[1;33m(\u001b[0m\u001b[0mdf\u001b[0m\u001b[1;33m[\u001b[0m\u001b[1;33m[\u001b[0m\u001b[1;34m'age'\u001b[0m\u001b[1;33m]\u001b[0m\u001b[1;33m]\u001b[0m\u001b[1;33m.\u001b[0m\u001b[0mcount\u001b[0m\u001b[1;33m(\u001b[0m\u001b[1;33m)\u001b[0m \u001b[1;33m>\u001b[0m \u001b[1;36m0\u001b[0m\u001b[1;33m)\u001b[0m\u001b[1;33m\u001b[0m\u001b[0m\n\u001b[0m\u001b[0;32m      5\u001b[0m \u001b[1;33m\u001b[0m\u001b[0m\n\u001b[0;32m      6\u001b[0m \u001b[0mprint\u001b[0m\u001b[1;33m(\u001b[0m\u001b[0mq6\u001b[0m\u001b[1;33m(\u001b[0m\u001b[0madult_df\u001b[0m\u001b[1;33m,\u001b[0m \u001b[1;34m\"Private\"\u001b[0m\u001b[1;33m,\u001b[0m \u001b[1;34m\"State-gov\"\u001b[0m\u001b[1;33m)\u001b[0m\u001b[1;33m)\u001b[0m\u001b[1;33m\u001b[0m\u001b[0m\n",
      "\u001b[1;31mTypeError\u001b[0m: bool() takes 1 positional argument but 2 were given"
     ]
    }
   ],
   "source": [
    "# Create function q6\n",
    "\n",
    "def q6(df, a, b):\n",
    "    return (df[(df.workclass == a) & (df.income == \">50K\")].count() - df[(df.workclass == b) & (df.income == \">50K\")].count()).bool(df[['age']].count() > 0)\n",
    "    \n",
    "print(q6(adult_df, \"Private\", \"State-gov\"))"
   ]
  },
  {
   "cell_type": "code",
   "execution_count": 95,
   "metadata": {},
   "outputs": [],
   "source": [
    "# Create function q7\n",
    "\n",
    "def q7(df):\n",
    "    return df[(df.income == \"<=50K\") & (df.hours_per_week >= 20)].count()"
   ]
  },
  {
   "cell_type": "code",
   "execution_count": 96,
   "metadata": {},
   "outputs": [
    {
     "name": "stdout",
     "output_type": "stream",
     "text": [
      "{'United-States': hours_per_week    45.505369\n",
      "dtype: float64, 'Canada': hours_per_week    45.641026\n",
      "dtype: float64, 'India': hours_per_week    46.475\n",
      "dtype: float64, 'England': hours_per_week    44.533333\n",
      "dtype: float64, 'Germany': hours_per_week    44.977273\n",
      "dtype: float64}\n"
     ]
    }
   ],
   "source": [
    "# Create function q8\n",
    "\n",
    "def q8(df):\n",
    "    US = df[(df.income == \">50K\") & (df.native_country == \"United-States\")]\n",
    "    Canada = df[(df.income == \">50K\") & (df.native_country == \"Canada\")]\n",
    "    India = df[(df.income == \">50K\") & (df.native_country == \"India\")]\n",
    "    England = df[(df.income == \">50K\") & (df.native_country == \"England\")]\n",
    "    Germany = df[(df.income == \">50K\") & (df.native_country == \"Germany\")]\n",
    "    return {\"United-States\": US[['hours_per_week']].mean(), \n",
    "           \"Canada\": Canada[['hours_per_week']].mean(),\n",
    "           \"India\": India[['hours_per_week']].mean(),\n",
    "           \"England\": England[['hours_per_week']].mean(),\n",
    "           \"Germany\": Germany[['hours_per_week']].mean()}\n",
    "\n",
    "print (q8(adult_df))"
   ]
  },
  {
   "cell_type": "code",
   "execution_count": 105,
   "metadata": {},
   "outputs": [
    {
     "name": "stdout",
     "output_type": "stream",
     "text": [
      "**1**\n",
      "age               0\n",
      "workclass         0\n",
      "fnlwgt            0\n",
      "education         0\n",
      "education_num     0\n",
      "marital_status    0\n",
      "occupation        0\n",
      "relationship      0\n",
      "race              0\n",
      "sex               0\n",
      "capital_gain      0\n",
      "capital_loss      0\n",
      "hours_per_week    0\n",
      "native_country    0\n",
      "income            0\n",
      "dtype: int64\n",
      "**2**\n",
      "age               19118\n",
      "workclass         18096\n",
      "fnlwgt            19118\n",
      "education         19118\n",
      "education_num     19118\n",
      "marital_status    19118\n",
      "occupation        18089\n",
      "relationship      19118\n",
      "race              19118\n",
      "sex               19118\n",
      "capital_gain      19118\n",
      "capital_loss      19118\n",
      "hours_per_week    19118\n",
      "native_country    18770\n",
      "income            19118\n",
      "dtype: int64\n",
      "**3**\n",
      "age    39.433547\n",
      "dtype: float64\n",
      "**4**\n",
      "age               32\n",
      "workclass         30\n",
      "fnlwgt            32\n",
      "education         32\n",
      "education_num     32\n",
      "marital_status    32\n",
      "occupation        30\n",
      "relationship      32\n",
      "race              32\n",
      "sex               32\n",
      "capital_gain      32\n",
      "capital_loss      32\n",
      "hours_per_week    32\n",
      "native_country    32\n",
      "income            32\n",
      "dtype: int64\n",
      "**5**\n",
      "age                   10.485946\n",
      "fnlwgt            102758.910491\n",
      "education_num          2.329130\n",
      "capital_gain       14418.232586\n",
      "capital_loss         594.717865\n",
      "hours_per_week        11.025092\n",
      "dtype: float64\n",
      "**6**\n",
      "**7**\n",
      "age               23133\n",
      "workclass         21801\n",
      "fnlwgt            23133\n",
      "education         23133\n",
      "education_num     23133\n",
      "marital_status    23133\n",
      "occupation        21796\n",
      "relationship      23133\n",
      "race              23133\n",
      "sex               23133\n",
      "capital_gain      23133\n",
      "capital_loss      23133\n",
      "hours_per_week    23133\n",
      "native_country    22723\n",
      "income            23133\n",
      "dtype: int64\n",
      "**8**\n",
      "{'United-States': hours_per_week    45.505369\n",
      "dtype: float64, 'Canada': hours_per_week    45.641026\n",
      "dtype: float64, 'India': hours_per_week    46.475\n",
      "dtype: float64, 'England': hours_per_week    44.533333\n",
      "dtype: float64, 'Germany': hours_per_week    44.977273\n",
      "dtype: float64}\n"
     ]
    }
   ],
   "source": [
    "# Test output\n",
    "\n",
    "print(\"**1**\")\n",
    "print(q1(adult_df))\n",
    "print(\"**2**\")\n",
    "print(q2(adult_df))\n",
    "print(\"**3**\")\n",
    "print(q3(adult_df))\n",
    "print(\"**4**\")\n",
    "print(q4(adult_df))\n",
    "print(\"**5**\")\n",
    "print(q5(adult_df))\n",
    "print(\"**6**\")\n",
    "#print(q6(adult_df, \"Private\", \"State-gov\"))\n",
    "print(\"**7**\")\n",
    "print(q7(adult_df))\n",
    "print(\"**8**\")\n",
    "print(q8(adult_df))"
   ]
  },
  {
   "cell_type": "code",
   "execution_count": null,
   "metadata": {},
   "outputs": [],
   "source": []
  }
 ],
 "metadata": {
  "kernelspec": {
   "display_name": "Python 3",
   "language": "python",
   "name": "python3"
  },
  "language_info": {
   "codemirror_mode": {
    "name": "ipython",
    "version": 3
   },
   "file_extension": ".py",
   "mimetype": "text/x-python",
   "name": "python",
   "nbconvert_exporter": "python",
   "pygments_lexer": "ipython3",
   "version": "3.6.5"
  }
 },
 "nbformat": 4,
 "nbformat_minor": 2
}
